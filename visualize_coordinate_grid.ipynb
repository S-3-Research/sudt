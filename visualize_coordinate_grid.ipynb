{
 "cells": [
  {
   "cell_type": "code",
   "execution_count": 1,
   "metadata": {},
   "outputs": [
    {
     "data": {
      "application/vnd.jupyter.widget-view+json": {
       "model_id": "6cd2af66a63e4f27a3dfc41cead22c38",
       "version_major": 2,
       "version_minor": 0
      },
      "text/plain": [
       "Map(center=[39.978756161038504, -75.32421022653581], controls=(ZoomControl(options=['position', 'zoom_in_text'…"
      ]
     },
     "execution_count": 1,
     "metadata": {},
     "output_type": "execute_result"
    }
   ],
   "source": [
    "import json\n",
    "from geojson import Point, Feature, GeometryCollection, FeatureCollection, dump\n",
    "from ipyleaflet import Map, GeoJSON\n",
    "from turfpy.transformation import circle\n",
    "\n",
    "data_dir = \"data/050523_google_map\"\n",
    "\n",
    "features = []\n",
    "for coord in json.load(open(f\"{data_dir}/coordinates_contiguous_us.json\", \"r\")):\n",
    "    circle_feature = circle(Feature(geometry=Point(coord)), radius=50, steps=10, units='km')\n",
    "    features.append(circle_feature)\n",
    "\n",
    "\n",
    "\n",
    "\n",
    "geo_json = GeoJSON(data=FeatureCollection(features))\n",
    "\n",
    "m = Map(center=[39.978756161038504, -75.32421022653581], zoom=4)\n",
    "\n",
    "m.add_layer(geo_json)\n",
    "\n",
    "m"
   ]
  },
  {
   "cell_type": "code",
   "execution_count": null,
   "metadata": {},
   "outputs": [],
   "source": []
  }
 ],
 "metadata": {
  "kernelspec": {
   "display_name": "sudt_env",
   "language": "python",
   "name": "python3"
  },
  "language_info": {
   "codemirror_mode": {
    "name": "ipython",
    "version": 3
   },
   "file_extension": ".py",
   "mimetype": "text/x-python",
   "name": "python",
   "nbconvert_exporter": "python",
   "pygments_lexer": "ipython3",
   "version": "3.11.3"
  },
  "orig_nbformat": 4
 },
 "nbformat": 4,
 "nbformat_minor": 2
}
